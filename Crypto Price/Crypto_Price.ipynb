{
  "nbformat": 4,
  "nbformat_minor": 0,
  "metadata": {
    "colab": {
      "provenance": [],
      "authorship_tag": "ABX9TyOYexS27xYlnCZcZQCYjh7N",
      "include_colab_link": true
    },
    "kernelspec": {
      "name": "python3",
      "display_name": "Python 3"
    },
    "language_info": {
      "name": "python"
    }
  },
  "cells": [
    {
      "cell_type": "markdown",
      "metadata": {
        "id": "view-in-github",
        "colab_type": "text"
      },
      "source": [
        "<a href=\"https://colab.research.google.com/github/isurushanaka/AII_Course-1/blob/main/Crypto%20Price/Crypto_Price.ipynb\" target=\"_parent\"><img src=\"https://colab.research.google.com/assets/colab-badge.svg\" alt=\"Open In Colab\"/></a>"
      ]
    },
    {
      "cell_type": "code",
      "source": [
        "!pip install python-binance"
      ],
      "metadata": {
        "id": "d0z4o-b6W8Fw"
      },
      "execution_count": null,
      "outputs": []
    },
    {
      "cell_type": "code",
      "source": [
        "import pandas as pd\n",
        "from binance.client import Client\n",
        "client = Client()"
      ],
      "metadata": {
        "id": "ceyupAkDXEE6"
      },
      "execution_count": null,
      "outputs": []
    },
    {
      "cell_type": "code",
      "execution_count": null,
      "metadata": {
        "id": "-sRFDsAnN4gl"
      },
      "outputs": [],
      "source": [
        "def get_data(symbol,start):\n",
        "  frame = pd.DataFrame(client.get_historical_klines(symbol,'1h',start))\n",
        "  frame = frame.iloc[:,:6]\n",
        "  frame.columns = ['Time', 'Open', 'High','Low', 'Close', 'Volume']\n",
        "  frame.set_index(\"Time\", inplace=True)\n",
        "  frame.index = pd.to_datetime(frame.index,unit='ms')\n",
        "  frame = frame.astype('float')\n",
        "  return frame"
      ]
    },
    {
      "cell_type": "code",
      "source": [
        "df = get_data('BTCUSDT','2023-01-01')"
      ],
      "metadata": {
        "id": "fPAPc7LDOLWu"
      },
      "execution_count": null,
      "outputs": []
    },
    {
      "cell_type": "code",
      "source": [
        "df"
      ],
      "metadata": {
        "id": "e-X7rLdOO5d2"
      },
      "execution_count": null,
      "outputs": []
    }
  ]
}