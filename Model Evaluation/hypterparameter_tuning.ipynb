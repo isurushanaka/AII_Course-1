{
  "cells": [
    {
      "cell_type": "markdown",
      "metadata": {
        "id": "view-in-github",
        "colab_type": "text"
      },
      "source": [
        "<a href=\"https://colab.research.google.com/github/isurushanaka/AII_Course-1/blob/main/Model%20Evaluation/hypterparameter_tuning.ipynb\" target=\"_parent\"><img src=\"https://colab.research.google.com/assets/colab-badge.svg\" alt=\"Open In Colab\"/></a>"
      ]
    },
    {
      "cell_type": "markdown",
      "id": "1b207367",
      "metadata": {
        "id": "1b207367"
      },
      "source": [
        "### Hyperparameter Tuning"
      ]
    },
    {
      "cell_type": "code",
      "execution_count": 17,
      "id": "2f1b6073",
      "metadata": {
        "id": "2f1b6073"
      },
      "outputs": [],
      "source": [
        "from sklearn import svm, datasets\n",
        "from sklearn.model_selection import GridSearchCV, train_test_split\n",
        "from sklearn.preprocessing import StandardScaler\n",
        "import pandas as pd\n",
        "\n",
        "# Load the iris dataset\n",
        "X, y = datasets.load_iris(return_X_y=True, as_frame=True)\n",
        "\n",
        "scaler = StandardScaler()\n",
        "scaled_data = scaler.fit_transform(X) # scaled_data is a numpy array\n",
        "\n",
        "X = pd.DataFrame(scaled_data, columns=['sepal length (cm)','sepal width (cm)', 'petal length (cm)', 'petal width (cm)'])\n",
        "\n",
        "# Split the data into training and test sets\n",
        "X_train, X_test, y_train, y_test = train_test_split(X, y, test_size=0.2, random_state=42)\n"
      ]
    },
    {
      "cell_type": "code",
      "execution_count": 2,
      "id": "de40b257",
      "metadata": {
        "id": "de40b257"
      },
      "outputs": [],
      "source": [
        "# Define the model\n",
        "model = svm.SVC()\n"
      ]
    },
    {
      "cell_type": "markdown",
      "id": "94d5cd62",
      "metadata": {
        "id": "94d5cd62"
      },
      "source": [
        "#### [Hyperparameter of SVC](https://scikit-learn.org/stable/modules/generated/sklearn.svm.SVC.html)"
      ]
    },
    {
      "cell_type": "code",
      "execution_count": 3,
      "id": "81eae3fe",
      "metadata": {
        "id": "81eae3fe",
        "outputId": "68f10463-8ef8-444f-ab94-9a9b2f062f81",
        "colab": {
          "base_uri": "https://localhost:8080/",
          "height": 116
        }
      },
      "outputs": [
        {
          "output_type": "execute_result",
          "data": {
            "text/plain": [
              "GridSearchCV(cv=5, estimator=SVC(),\n",
              "             param_grid={'C': [0.1, 1, 10], 'gamma': ['scale', 'auto'],\n",
              "                         'kernel': ['linear', 'poly', 'rbf', 'sigmoid']})"
            ],
            "text/html": [
              "<style>#sk-container-id-1 {color: black;background-color: white;}#sk-container-id-1 pre{padding: 0;}#sk-container-id-1 div.sk-toggleable {background-color: white;}#sk-container-id-1 label.sk-toggleable__label {cursor: pointer;display: block;width: 100%;margin-bottom: 0;padding: 0.3em;box-sizing: border-box;text-align: center;}#sk-container-id-1 label.sk-toggleable__label-arrow:before {content: \"▸\";float: left;margin-right: 0.25em;color: #696969;}#sk-container-id-1 label.sk-toggleable__label-arrow:hover:before {color: black;}#sk-container-id-1 div.sk-estimator:hover label.sk-toggleable__label-arrow:before {color: black;}#sk-container-id-1 div.sk-toggleable__content {max-height: 0;max-width: 0;overflow: hidden;text-align: left;background-color: #f0f8ff;}#sk-container-id-1 div.sk-toggleable__content pre {margin: 0.2em;color: black;border-radius: 0.25em;background-color: #f0f8ff;}#sk-container-id-1 input.sk-toggleable__control:checked~div.sk-toggleable__content {max-height: 200px;max-width: 100%;overflow: auto;}#sk-container-id-1 input.sk-toggleable__control:checked~label.sk-toggleable__label-arrow:before {content: \"▾\";}#sk-container-id-1 div.sk-estimator input.sk-toggleable__control:checked~label.sk-toggleable__label {background-color: #d4ebff;}#sk-container-id-1 div.sk-label input.sk-toggleable__control:checked~label.sk-toggleable__label {background-color: #d4ebff;}#sk-container-id-1 input.sk-hidden--visually {border: 0;clip: rect(1px 1px 1px 1px);clip: rect(1px, 1px, 1px, 1px);height: 1px;margin: -1px;overflow: hidden;padding: 0;position: absolute;width: 1px;}#sk-container-id-1 div.sk-estimator {font-family: monospace;background-color: #f0f8ff;border: 1px dotted black;border-radius: 0.25em;box-sizing: border-box;margin-bottom: 0.5em;}#sk-container-id-1 div.sk-estimator:hover {background-color: #d4ebff;}#sk-container-id-1 div.sk-parallel-item::after {content: \"\";width: 100%;border-bottom: 1px solid gray;flex-grow: 1;}#sk-container-id-1 div.sk-label:hover label.sk-toggleable__label {background-color: #d4ebff;}#sk-container-id-1 div.sk-serial::before {content: \"\";position: absolute;border-left: 1px solid gray;box-sizing: border-box;top: 0;bottom: 0;left: 50%;z-index: 0;}#sk-container-id-1 div.sk-serial {display: flex;flex-direction: column;align-items: center;background-color: white;padding-right: 0.2em;padding-left: 0.2em;position: relative;}#sk-container-id-1 div.sk-item {position: relative;z-index: 1;}#sk-container-id-1 div.sk-parallel {display: flex;align-items: stretch;justify-content: center;background-color: white;position: relative;}#sk-container-id-1 div.sk-item::before, #sk-container-id-1 div.sk-parallel-item::before {content: \"\";position: absolute;border-left: 1px solid gray;box-sizing: border-box;top: 0;bottom: 0;left: 50%;z-index: -1;}#sk-container-id-1 div.sk-parallel-item {display: flex;flex-direction: column;z-index: 1;position: relative;background-color: white;}#sk-container-id-1 div.sk-parallel-item:first-child::after {align-self: flex-end;width: 50%;}#sk-container-id-1 div.sk-parallel-item:last-child::after {align-self: flex-start;width: 50%;}#sk-container-id-1 div.sk-parallel-item:only-child::after {width: 0;}#sk-container-id-1 div.sk-dashed-wrapped {border: 1px dashed gray;margin: 0 0.4em 0.5em 0.4em;box-sizing: border-box;padding-bottom: 0.4em;background-color: white;}#sk-container-id-1 div.sk-label label {font-family: monospace;font-weight: bold;display: inline-block;line-height: 1.2em;}#sk-container-id-1 div.sk-label-container {text-align: center;}#sk-container-id-1 div.sk-container {/* jupyter's `normalize.less` sets `[hidden] { display: none; }` but bootstrap.min.css set `[hidden] { display: none !important; }` so we also need the `!important` here to be able to override the default hidden behavior on the sphinx rendered scikit-learn.org. See: https://github.com/scikit-learn/scikit-learn/issues/21755 */display: inline-block !important;position: relative;}#sk-container-id-1 div.sk-text-repr-fallback {display: none;}</style><div id=\"sk-container-id-1\" class=\"sk-top-container\"><div class=\"sk-text-repr-fallback\"><pre>GridSearchCV(cv=5, estimator=SVC(),\n",
              "             param_grid={&#x27;C&#x27;: [0.1, 1, 10], &#x27;gamma&#x27;: [&#x27;scale&#x27;, &#x27;auto&#x27;],\n",
              "                         &#x27;kernel&#x27;: [&#x27;linear&#x27;, &#x27;poly&#x27;, &#x27;rbf&#x27;, &#x27;sigmoid&#x27;]})</pre><b>In a Jupyter environment, please rerun this cell to show the HTML representation or trust the notebook. <br />On GitHub, the HTML representation is unable to render, please try loading this page with nbviewer.org.</b></div><div class=\"sk-container\" hidden><div class=\"sk-item sk-dashed-wrapped\"><div class=\"sk-label-container\"><div class=\"sk-label sk-toggleable\"><input class=\"sk-toggleable__control sk-hidden--visually\" id=\"sk-estimator-id-1\" type=\"checkbox\" ><label for=\"sk-estimator-id-1\" class=\"sk-toggleable__label sk-toggleable__label-arrow\">GridSearchCV</label><div class=\"sk-toggleable__content\"><pre>GridSearchCV(cv=5, estimator=SVC(),\n",
              "             param_grid={&#x27;C&#x27;: [0.1, 1, 10], &#x27;gamma&#x27;: [&#x27;scale&#x27;, &#x27;auto&#x27;],\n",
              "                         &#x27;kernel&#x27;: [&#x27;linear&#x27;, &#x27;poly&#x27;, &#x27;rbf&#x27;, &#x27;sigmoid&#x27;]})</pre></div></div></div><div class=\"sk-parallel\"><div class=\"sk-parallel-item\"><div class=\"sk-item\"><div class=\"sk-label-container\"><div class=\"sk-label sk-toggleable\"><input class=\"sk-toggleable__control sk-hidden--visually\" id=\"sk-estimator-id-2\" type=\"checkbox\" ><label for=\"sk-estimator-id-2\" class=\"sk-toggleable__label sk-toggleable__label-arrow\">estimator: SVC</label><div class=\"sk-toggleable__content\"><pre>SVC()</pre></div></div></div><div class=\"sk-serial\"><div class=\"sk-item\"><div class=\"sk-estimator sk-toggleable\"><input class=\"sk-toggleable__control sk-hidden--visually\" id=\"sk-estimator-id-3\" type=\"checkbox\" ><label for=\"sk-estimator-id-3\" class=\"sk-toggleable__label sk-toggleable__label-arrow\">SVC</label><div class=\"sk-toggleable__content\"><pre>SVC()</pre></div></div></div></div></div></div></div></div></div></div>"
            ]
          },
          "metadata": {},
          "execution_count": 3
        }
      ],
      "source": [
        "# Define the hyperparameter grid\n",
        "param_grid = {'C': [0.1, 1, 10],\n",
        "              'kernel': ['linear', 'poly', 'rbf', 'sigmoid'],\n",
        "              'gamma': ['scale', 'auto']}\n",
        "\n",
        "# Perform grid search cross-validation\n",
        "grid_search = GridSearchCV(model, param_grid, cv=5)\n",
        "grid_search.fit(X_train, y_train)"
      ]
    },
    {
      "cell_type": "code",
      "execution_count": 4,
      "id": "7429d9d0",
      "metadata": {
        "id": "7429d9d0",
        "outputId": "a1934e4f-f2c5-42df-a4d4-259a8616d21a",
        "colab": {
          "base_uri": "https://localhost:8080/"
        }
      },
      "outputs": [
        {
          "output_type": "stream",
          "name": "stdout",
          "text": [
            "{'C': 0.1, 'gamma': 'scale', 'kernel': 'linear'} Accuracy: 0.9416666666666667\n",
            "{'C': 0.1, 'gamma': 'scale', 'kernel': 'poly'} Accuracy: 0.95\n",
            "{'C': 0.1, 'gamma': 'scale', 'kernel': 'rbf'} Accuracy: 0.8916666666666668\n",
            "{'C': 0.1, 'gamma': 'scale', 'kernel': 'sigmoid'} Accuracy: 0.29166666666666663\n",
            "{'C': 0.1, 'gamma': 'auto', 'kernel': 'linear'} Accuracy: 0.9416666666666667\n",
            "{'C': 0.1, 'gamma': 'auto', 'kernel': 'poly'} Accuracy: 0.9416666666666668\n",
            "{'C': 0.1, 'gamma': 'auto', 'kernel': 'rbf'} Accuracy: 0.9166666666666667\n",
            "{'C': 0.1, 'gamma': 'auto', 'kernel': 'sigmoid'} Accuracy: 0.27499999999999997\n",
            "{'C': 1, 'gamma': 'scale', 'kernel': 'linear'} Accuracy: 0.9583333333333334\n",
            "{'C': 1, 'gamma': 'scale', 'kernel': 'poly'} Accuracy: 0.95\n",
            "{'C': 1, 'gamma': 'scale', 'kernel': 'rbf'} Accuracy: 0.95\n",
            "{'C': 1, 'gamma': 'scale', 'kernel': 'sigmoid'} Accuracy: 0.29166666666666663\n",
            "{'C': 1, 'gamma': 'auto', 'kernel': 'linear'} Accuracy: 0.9583333333333334\n",
            "{'C': 1, 'gamma': 'auto', 'kernel': 'poly'} Accuracy: 0.95\n",
            "{'C': 1, 'gamma': 'auto', 'kernel': 'rbf'} Accuracy: 0.95\n",
            "{'C': 1, 'gamma': 'auto', 'kernel': 'sigmoid'} Accuracy: 0.27499999999999997\n",
            "{'C': 10, 'gamma': 'scale', 'kernel': 'linear'} Accuracy: 0.95\n",
            "{'C': 10, 'gamma': 'scale', 'kernel': 'poly'} Accuracy: 0.9333333333333333\n",
            "{'C': 10, 'gamma': 'scale', 'kernel': 'rbf'} Accuracy: 0.95\n",
            "{'C': 10, 'gamma': 'scale', 'kernel': 'sigmoid'} Accuracy: 0.175\n",
            "{'C': 10, 'gamma': 'auto', 'kernel': 'linear'} Accuracy: 0.95\n",
            "{'C': 10, 'gamma': 'auto', 'kernel': 'poly'} Accuracy: 0.9416666666666668\n",
            "{'C': 10, 'gamma': 'auto', 'kernel': 'rbf'} Accuracy: 0.9583333333333334\n",
            "{'C': 10, 'gamma': 'auto', 'kernel': 'sigmoid'} Accuracy: 0.27499999999999997\n"
          ]
        }
      ],
      "source": [
        "# Get the accuracy scores for each combination\n",
        "results = grid_search.cv_results_\n",
        "combinations = results['params']\n",
        "accuracies = results['mean_test_score']\n",
        "\n",
        "# Print the accuracy for each combination\n",
        "for combination, accuracy in zip(combinations, accuracies):\n",
        "    print(combination, \"Accuracy:\", accuracy)"
      ]
    },
    {
      "cell_type": "code",
      "execution_count": 5,
      "id": "0f7665f7",
      "metadata": {
        "id": "0f7665f7",
        "outputId": "67f01b71-6c0f-4315-f2d7-1bb9d1d2c583",
        "colab": {
          "base_uri": "https://localhost:8080/"
        }
      },
      "outputs": [
        {
          "output_type": "stream",
          "name": "stdout",
          "text": [
            "Best Hyperparameters:  {'C': 1, 'gamma': 'scale', 'kernel': 'linear'}\n",
            "Test Accuracy:  1.0\n"
          ]
        }
      ],
      "source": [
        "# Print the best hyperparameters\n",
        "print(\"Best Hyperparameters: \", grid_search.best_params_)\n",
        "\n",
        "# Evaluate the model with the best hyperparameters on the test set\n",
        "best_model = grid_search.best_estimator_\n",
        "accuracy = best_model.score(X_test, y_test)\n",
        "print(\"Test Accuracy: \", accuracy)"
      ]
    },
    {
      "cell_type": "code",
      "execution_count": 19,
      "id": "1bf8d48b",
      "metadata": {
        "id": "1bf8d48b"
      },
      "outputs": [],
      "source": [
        "from sklearn.neural_network import MLPClassifier\n",
        "classifier = MLPClassifier( max_iter=1000, learning_rate_init=0.01,)"
      ]
    },
    {
      "cell_type": "code",
      "source": [
        "param_grid={\n",
        "    'hidden_layer_sizes':[(8,), (10,5,), (8,5,3,)],\n",
        "    'activation':['identity', 'logistic', 'tanh', 'relu'],\n",
        "    'solver':['lbfgs', 'sgd', 'adam'],\n",
        "}"
      ],
      "metadata": {
        "id": "xSwOShM3wcr4"
      },
      "id": "xSwOShM3wcr4",
      "execution_count": 20,
      "outputs": []
    },
    {
      "cell_type": "code",
      "source": [
        "grid_search = GridSearchCV(classifier, param_grid, cv=10)\n",
        "grid_search.fit(X_train, y_train)"
      ],
      "metadata": {
        "id": "TAxKHb_y0e7y",
        "outputId": "2ee19d5c-70af-4d6c-d8be-2830c21fbebf",
        "colab": {
          "base_uri": "https://localhost:8080/",
          "height": 622
        }
      },
      "id": "TAxKHb_y0e7y",
      "execution_count": 21,
      "outputs": [
        {
          "output_type": "stream",
          "name": "stderr",
          "text": [
            "/usr/local/lib/python3.10/dist-packages/sklearn/neural_network/_multilayer_perceptron.py:686: ConvergenceWarning: Stochastic Optimizer: Maximum iterations (1000) reached and the optimization hasn't converged yet.\n",
            "  warnings.warn(\n",
            "/usr/local/lib/python3.10/dist-packages/sklearn/neural_network/_multilayer_perceptron.py:686: ConvergenceWarning: Stochastic Optimizer: Maximum iterations (1000) reached and the optimization hasn't converged yet.\n",
            "  warnings.warn(\n",
            "/usr/local/lib/python3.10/dist-packages/sklearn/neural_network/_multilayer_perceptron.py:686: ConvergenceWarning: Stochastic Optimizer: Maximum iterations (1000) reached and the optimization hasn't converged yet.\n",
            "  warnings.warn(\n",
            "/usr/local/lib/python3.10/dist-packages/sklearn/neural_network/_multilayer_perceptron.py:686: ConvergenceWarning: Stochastic Optimizer: Maximum iterations (1000) reached and the optimization hasn't converged yet.\n",
            "  warnings.warn(\n",
            "/usr/local/lib/python3.10/dist-packages/sklearn/neural_network/_multilayer_perceptron.py:686: ConvergenceWarning: Stochastic Optimizer: Maximum iterations (1000) reached and the optimization hasn't converged yet.\n",
            "  warnings.warn(\n",
            "/usr/local/lib/python3.10/dist-packages/sklearn/neural_network/_multilayer_perceptron.py:686: ConvergenceWarning: Stochastic Optimizer: Maximum iterations (1000) reached and the optimization hasn't converged yet.\n",
            "  warnings.warn(\n",
            "/usr/local/lib/python3.10/dist-packages/sklearn/neural_network/_multilayer_perceptron.py:686: ConvergenceWarning: Stochastic Optimizer: Maximum iterations (1000) reached and the optimization hasn't converged yet.\n",
            "  warnings.warn(\n",
            "/usr/local/lib/python3.10/dist-packages/sklearn/neural_network/_multilayer_perceptron.py:686: ConvergenceWarning: Stochastic Optimizer: Maximum iterations (1000) reached and the optimization hasn't converged yet.\n",
            "  warnings.warn(\n",
            "/usr/local/lib/python3.10/dist-packages/sklearn/neural_network/_multilayer_perceptron.py:686: ConvergenceWarning: Stochastic Optimizer: Maximum iterations (1000) reached and the optimization hasn't converged yet.\n",
            "  warnings.warn(\n",
            "/usr/local/lib/python3.10/dist-packages/sklearn/neural_network/_multilayer_perceptron.py:686: ConvergenceWarning: Stochastic Optimizer: Maximum iterations (1000) reached and the optimization hasn't converged yet.\n",
            "  warnings.warn(\n",
            "/usr/local/lib/python3.10/dist-packages/sklearn/neural_network/_multilayer_perceptron.py:686: ConvergenceWarning: Stochastic Optimizer: Maximum iterations (1000) reached and the optimization hasn't converged yet.\n",
            "  warnings.warn(\n",
            "/usr/local/lib/python3.10/dist-packages/sklearn/neural_network/_multilayer_perceptron.py:686: ConvergenceWarning: Stochastic Optimizer: Maximum iterations (1000) reached and the optimization hasn't converged yet.\n",
            "  warnings.warn(\n",
            "/usr/local/lib/python3.10/dist-packages/sklearn/neural_network/_multilayer_perceptron.py:686: ConvergenceWarning: Stochastic Optimizer: Maximum iterations (1000) reached and the optimization hasn't converged yet.\n",
            "  warnings.warn(\n",
            "/usr/local/lib/python3.10/dist-packages/sklearn/neural_network/_multilayer_perceptron.py:686: ConvergenceWarning: Stochastic Optimizer: Maximum iterations (1000) reached and the optimization hasn't converged yet.\n",
            "  warnings.warn(\n"
          ]
        },
        {
          "output_type": "execute_result",
          "data": {
            "text/plain": [
              "GridSearchCV(cv=10,\n",
              "             estimator=MLPClassifier(learning_rate_init=0.01, max_iter=1000),\n",
              "             param_grid={'activation': ['identity', 'logistic', 'tanh', 'relu'],\n",
              "                         'hidden_layer_sizes': [(8,), (10, 5), (8, 5, 3)],\n",
              "                         'solver': ['lbfgs', 'sgd', 'adam']})"
            ],
            "text/html": [
              "<style>#sk-container-id-4 {color: black;background-color: white;}#sk-container-id-4 pre{padding: 0;}#sk-container-id-4 div.sk-toggleable {background-color: white;}#sk-container-id-4 label.sk-toggleable__label {cursor: pointer;display: block;width: 100%;margin-bottom: 0;padding: 0.3em;box-sizing: border-box;text-align: center;}#sk-container-id-4 label.sk-toggleable__label-arrow:before {content: \"▸\";float: left;margin-right: 0.25em;color: #696969;}#sk-container-id-4 label.sk-toggleable__label-arrow:hover:before {color: black;}#sk-container-id-4 div.sk-estimator:hover label.sk-toggleable__label-arrow:before {color: black;}#sk-container-id-4 div.sk-toggleable__content {max-height: 0;max-width: 0;overflow: hidden;text-align: left;background-color: #f0f8ff;}#sk-container-id-4 div.sk-toggleable__content pre {margin: 0.2em;color: black;border-radius: 0.25em;background-color: #f0f8ff;}#sk-container-id-4 input.sk-toggleable__control:checked~div.sk-toggleable__content {max-height: 200px;max-width: 100%;overflow: auto;}#sk-container-id-4 input.sk-toggleable__control:checked~label.sk-toggleable__label-arrow:before {content: \"▾\";}#sk-container-id-4 div.sk-estimator input.sk-toggleable__control:checked~label.sk-toggleable__label {background-color: #d4ebff;}#sk-container-id-4 div.sk-label input.sk-toggleable__control:checked~label.sk-toggleable__label {background-color: #d4ebff;}#sk-container-id-4 input.sk-hidden--visually {border: 0;clip: rect(1px 1px 1px 1px);clip: rect(1px, 1px, 1px, 1px);height: 1px;margin: -1px;overflow: hidden;padding: 0;position: absolute;width: 1px;}#sk-container-id-4 div.sk-estimator {font-family: monospace;background-color: #f0f8ff;border: 1px dotted black;border-radius: 0.25em;box-sizing: border-box;margin-bottom: 0.5em;}#sk-container-id-4 div.sk-estimator:hover {background-color: #d4ebff;}#sk-container-id-4 div.sk-parallel-item::after {content: \"\";width: 100%;border-bottom: 1px solid gray;flex-grow: 1;}#sk-container-id-4 div.sk-label:hover label.sk-toggleable__label {background-color: #d4ebff;}#sk-container-id-4 div.sk-serial::before {content: \"\";position: absolute;border-left: 1px solid gray;box-sizing: border-box;top: 0;bottom: 0;left: 50%;z-index: 0;}#sk-container-id-4 div.sk-serial {display: flex;flex-direction: column;align-items: center;background-color: white;padding-right: 0.2em;padding-left: 0.2em;position: relative;}#sk-container-id-4 div.sk-item {position: relative;z-index: 1;}#sk-container-id-4 div.sk-parallel {display: flex;align-items: stretch;justify-content: center;background-color: white;position: relative;}#sk-container-id-4 div.sk-item::before, #sk-container-id-4 div.sk-parallel-item::before {content: \"\";position: absolute;border-left: 1px solid gray;box-sizing: border-box;top: 0;bottom: 0;left: 50%;z-index: -1;}#sk-container-id-4 div.sk-parallel-item {display: flex;flex-direction: column;z-index: 1;position: relative;background-color: white;}#sk-container-id-4 div.sk-parallel-item:first-child::after {align-self: flex-end;width: 50%;}#sk-container-id-4 div.sk-parallel-item:last-child::after {align-self: flex-start;width: 50%;}#sk-container-id-4 div.sk-parallel-item:only-child::after {width: 0;}#sk-container-id-4 div.sk-dashed-wrapped {border: 1px dashed gray;margin: 0 0.4em 0.5em 0.4em;box-sizing: border-box;padding-bottom: 0.4em;background-color: white;}#sk-container-id-4 div.sk-label label {font-family: monospace;font-weight: bold;display: inline-block;line-height: 1.2em;}#sk-container-id-4 div.sk-label-container {text-align: center;}#sk-container-id-4 div.sk-container {/* jupyter's `normalize.less` sets `[hidden] { display: none; }` but bootstrap.min.css set `[hidden] { display: none !important; }` so we also need the `!important` here to be able to override the default hidden behavior on the sphinx rendered scikit-learn.org. See: https://github.com/scikit-learn/scikit-learn/issues/21755 */display: inline-block !important;position: relative;}#sk-container-id-4 div.sk-text-repr-fallback {display: none;}</style><div id=\"sk-container-id-4\" class=\"sk-top-container\"><div class=\"sk-text-repr-fallback\"><pre>GridSearchCV(cv=10,\n",
              "             estimator=MLPClassifier(learning_rate_init=0.01, max_iter=1000),\n",
              "             param_grid={&#x27;activation&#x27;: [&#x27;identity&#x27;, &#x27;logistic&#x27;, &#x27;tanh&#x27;, &#x27;relu&#x27;],\n",
              "                         &#x27;hidden_layer_sizes&#x27;: [(8,), (10, 5), (8, 5, 3)],\n",
              "                         &#x27;solver&#x27;: [&#x27;lbfgs&#x27;, &#x27;sgd&#x27;, &#x27;adam&#x27;]})</pre><b>In a Jupyter environment, please rerun this cell to show the HTML representation or trust the notebook. <br />On GitHub, the HTML representation is unable to render, please try loading this page with nbviewer.org.</b></div><div class=\"sk-container\" hidden><div class=\"sk-item sk-dashed-wrapped\"><div class=\"sk-label-container\"><div class=\"sk-label sk-toggleable\"><input class=\"sk-toggleable__control sk-hidden--visually\" id=\"sk-estimator-id-10\" type=\"checkbox\" ><label for=\"sk-estimator-id-10\" class=\"sk-toggleable__label sk-toggleable__label-arrow\">GridSearchCV</label><div class=\"sk-toggleable__content\"><pre>GridSearchCV(cv=10,\n",
              "             estimator=MLPClassifier(learning_rate_init=0.01, max_iter=1000),\n",
              "             param_grid={&#x27;activation&#x27;: [&#x27;identity&#x27;, &#x27;logistic&#x27;, &#x27;tanh&#x27;, &#x27;relu&#x27;],\n",
              "                         &#x27;hidden_layer_sizes&#x27;: [(8,), (10, 5), (8, 5, 3)],\n",
              "                         &#x27;solver&#x27;: [&#x27;lbfgs&#x27;, &#x27;sgd&#x27;, &#x27;adam&#x27;]})</pre></div></div></div><div class=\"sk-parallel\"><div class=\"sk-parallel-item\"><div class=\"sk-item\"><div class=\"sk-label-container\"><div class=\"sk-label sk-toggleable\"><input class=\"sk-toggleable__control sk-hidden--visually\" id=\"sk-estimator-id-11\" type=\"checkbox\" ><label for=\"sk-estimator-id-11\" class=\"sk-toggleable__label sk-toggleable__label-arrow\">estimator: MLPClassifier</label><div class=\"sk-toggleable__content\"><pre>MLPClassifier(learning_rate_init=0.01, max_iter=1000)</pre></div></div></div><div class=\"sk-serial\"><div class=\"sk-item\"><div class=\"sk-estimator sk-toggleable\"><input class=\"sk-toggleable__control sk-hidden--visually\" id=\"sk-estimator-id-12\" type=\"checkbox\" ><label for=\"sk-estimator-id-12\" class=\"sk-toggleable__label sk-toggleable__label-arrow\">MLPClassifier</label><div class=\"sk-toggleable__content\"><pre>MLPClassifier(learning_rate_init=0.01, max_iter=1000)</pre></div></div></div></div></div></div></div></div></div></div>"
            ]
          },
          "metadata": {},
          "execution_count": 21
        }
      ]
    },
    {
      "cell_type": "code",
      "source": [
        "# Get the accuracy scores for each combination\n",
        "results = grid_search.cv_results_\n",
        "combinations = results['params']\n",
        "accuracies = results['mean_test_score']\n",
        "\n",
        "# Print the accuracy for each combination\n",
        "for combination, accuracy in zip(combinations, accuracies):\n",
        "    print(combination, \"Accuracy:\", accuracy)"
      ],
      "metadata": {
        "id": "U4t8N7Zm2m_m",
        "outputId": "0ede2f9c-d354-457a-d2b3-feb8994adf7b",
        "colab": {
          "base_uri": "https://localhost:8080/"
        }
      },
      "id": "U4t8N7Zm2m_m",
      "execution_count": 22,
      "outputs": [
        {
          "output_type": "stream",
          "name": "stdout",
          "text": [
            "{'activation': 'identity', 'hidden_layer_sizes': (8,), 'solver': 'lbfgs'} Accuracy: 0.9333333333333332\n",
            "{'activation': 'identity', 'hidden_layer_sizes': (8,), 'solver': 'sgd'} Accuracy: 0.9416666666666667\n",
            "{'activation': 'identity', 'hidden_layer_sizes': (8,), 'solver': 'adam'} Accuracy: 0.9583333333333334\n",
            "{'activation': 'identity', 'hidden_layer_sizes': (10, 5), 'solver': 'lbfgs'} Accuracy: 0.9333333333333332\n",
            "{'activation': 'identity', 'hidden_layer_sizes': (10, 5), 'solver': 'sgd'} Accuracy: 0.95\n",
            "{'activation': 'identity', 'hidden_layer_sizes': (10, 5), 'solver': 'adam'} Accuracy: 0.9333333333333332\n",
            "{'activation': 'identity', 'hidden_layer_sizes': (8, 5, 3), 'solver': 'lbfgs'} Accuracy: 0.9416666666666667\n",
            "{'activation': 'identity', 'hidden_layer_sizes': (8, 5, 3), 'solver': 'sgd'} Accuracy: 0.9333333333333332\n",
            "{'activation': 'identity', 'hidden_layer_sizes': (8, 5, 3), 'solver': 'adam'} Accuracy: 0.9416666666666667\n",
            "{'activation': 'logistic', 'hidden_layer_sizes': (8,), 'solver': 'lbfgs'} Accuracy: 0.8916666666666666\n",
            "{'activation': 'logistic', 'hidden_layer_sizes': (8,), 'solver': 'sgd'} Accuracy: 0.9416666666666667\n",
            "{'activation': 'logistic', 'hidden_layer_sizes': (8,), 'solver': 'adam'} Accuracy: 0.9583333333333334\n",
            "{'activation': 'logistic', 'hidden_layer_sizes': (10, 5), 'solver': 'lbfgs'} Accuracy: 0.9083333333333334\n",
            "{'activation': 'logistic', 'hidden_layer_sizes': (10, 5), 'solver': 'sgd'} Accuracy: 0.575\n",
            "{'activation': 'logistic', 'hidden_layer_sizes': (10, 5), 'solver': 'adam'} Accuracy: 0.95\n",
            "{'activation': 'logistic', 'hidden_layer_sizes': (8, 5, 3), 'solver': 'lbfgs'} Accuracy: 0.9\n",
            "{'activation': 'logistic', 'hidden_layer_sizes': (8, 5, 3), 'solver': 'sgd'} Accuracy: 0.3416666666666667\n",
            "{'activation': 'logistic', 'hidden_layer_sizes': (8, 5, 3), 'solver': 'adam'} Accuracy: 0.8583333333333332\n",
            "{'activation': 'tanh', 'hidden_layer_sizes': (8,), 'solver': 'lbfgs'} Accuracy: 0.9333333333333332\n",
            "{'activation': 'tanh', 'hidden_layer_sizes': (8,), 'solver': 'sgd'} Accuracy: 0.95\n",
            "{'activation': 'tanh', 'hidden_layer_sizes': (8,), 'solver': 'adam'} Accuracy: 0.9416666666666667\n",
            "{'activation': 'tanh', 'hidden_layer_sizes': (10, 5), 'solver': 'lbfgs'} Accuracy: 0.9083333333333334\n",
            "{'activation': 'tanh', 'hidden_layer_sizes': (10, 5), 'solver': 'sgd'} Accuracy: 0.9416666666666667\n",
            "{'activation': 'tanh', 'hidden_layer_sizes': (10, 5), 'solver': 'adam'} Accuracy: 0.925\n",
            "{'activation': 'tanh', 'hidden_layer_sizes': (8, 5, 3), 'solver': 'lbfgs'} Accuracy: 0.9166666666666667\n",
            "{'activation': 'tanh', 'hidden_layer_sizes': (8, 5, 3), 'solver': 'sgd'} Accuracy: 0.9416666666666667\n",
            "{'activation': 'tanh', 'hidden_layer_sizes': (8, 5, 3), 'solver': 'adam'} Accuracy: 0.9166666666666666\n",
            "{'activation': 'relu', 'hidden_layer_sizes': (8,), 'solver': 'lbfgs'} Accuracy: 0.9249999999999998\n",
            "{'activation': 'relu', 'hidden_layer_sizes': (8,), 'solver': 'sgd'} Accuracy: 0.95\n",
            "{'activation': 'relu', 'hidden_layer_sizes': (8,), 'solver': 'adam'} Accuracy: 0.9333333333333332\n",
            "{'activation': 'relu', 'hidden_layer_sizes': (10, 5), 'solver': 'lbfgs'} Accuracy: 0.8333333333333333\n",
            "{'activation': 'relu', 'hidden_layer_sizes': (10, 5), 'solver': 'sgd'} Accuracy: 0.9333333333333332\n",
            "{'activation': 'relu', 'hidden_layer_sizes': (10, 5), 'solver': 'adam'} Accuracy: 0.9249999999999998\n",
            "{'activation': 'relu', 'hidden_layer_sizes': (8, 5, 3), 'solver': 'lbfgs'} Accuracy: 0.8666666666666666\n",
            "{'activation': 'relu', 'hidden_layer_sizes': (8, 5, 3), 'solver': 'sgd'} Accuracy: 0.9333333333333332\n",
            "{'activation': 'relu', 'hidden_layer_sizes': (8, 5, 3), 'solver': 'adam'} Accuracy: 0.8916666666666666\n"
          ]
        }
      ]
    },
    {
      "cell_type": "code",
      "source": [
        "# Print the best hyperparameters\n",
        "print(\"Best Hyperparameters: \", grid_search.best_params_)\n",
        "\n",
        "# Evaluate the model with the best hyperparameters on the test set\n",
        "best_model = grid_search.best_estimator_\n",
        "accuracy = best_model.score(X_test, y_test)\n",
        "print(\"Test Accuracy: \", accuracy)"
      ],
      "metadata": {
        "id": "nrMCFAr83IhL",
        "outputId": "f3f2cb04-7b6a-4358-f2fd-f297a6ab7081",
        "colab": {
          "base_uri": "https://localhost:8080/"
        }
      },
      "id": "nrMCFAr83IhL",
      "execution_count": 23,
      "outputs": [
        {
          "output_type": "stream",
          "name": "stdout",
          "text": [
            "Best Hyperparameters:  {'activation': 'identity', 'hidden_layer_sizes': (8,), 'solver': 'adam'}\n",
            "Test Accuracy:  0.9666666666666667\n"
          ]
        }
      ]
    }
  ],
  "metadata": {
    "kernelspec": {
      "display_name": "Python 3 (ipykernel)",
      "language": "python",
      "name": "python3"
    },
    "language_info": {
      "codemirror_mode": {
        "name": "ipython",
        "version": 3
      },
      "file_extension": ".py",
      "mimetype": "text/x-python",
      "name": "python",
      "nbconvert_exporter": "python",
      "pygments_lexer": "ipython3",
      "version": "3.9.13"
    },
    "colab": {
      "provenance": [],
      "include_colab_link": true
    }
  },
  "nbformat": 4,
  "nbformat_minor": 5
}