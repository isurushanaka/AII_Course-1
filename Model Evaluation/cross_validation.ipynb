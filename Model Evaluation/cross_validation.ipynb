{
 "cells": [
  {
   "cell_type": "markdown",
   "id": "6e7a2fa2",
   "metadata": {},
   "source": [
    "## Cross Validation"
   ]
  },
  {
   "cell_type": "markdown",
   "id": "bcc5fab5",
   "metadata": {},
   "source": [
    "* 10-fold cross-validation is a technique used to assess the performance of a machine learning model on a dataset. \n",
    "* It involves splitting the dataset into 10 equal-sized subsets, or \"folds\".\n",
    "* The cross-validation process then iterates 10 times, with each iteration using one of the folds as the validation set and the remaining 9 folds as the training set. \n",
    "* In each iteration, the model is trained on the training set and evaluated on the validation set. \n",
    "* This provides 10 separate performance metrics, one for each fold.\n",
    "* The final performance metric is typically computed by averaging the results from the 5 iterations. \n",
    "* This helps to provide a more reliable estimate of the model's performance, as it takes into account the variability that can occur when different subsets of data are used for training and validation.\n",
    "* Using a higher number of folds, such as 10, can provide a more robust estimate of the model's performance compared to using a smaller number of folds. \n",
    "* However, it also increases the computational cost, as the model needs to be trained and evaluated multiple times. \n",
    "* The choice of the number of folds depends on the specific dataset and the trade-off between computational cost and the desire for a more accurate estimate of performance."
   ]
  },
  {
   "cell_type": "markdown",
   "id": "a247ea84",
   "metadata": {},
   "source": [
    "### Cross Validation of Regression Models"
   ]
  },
  {
   "cell_type": "code",
   "execution_count": 30,
   "id": "6be48552",
   "metadata": {},
   "outputs": [],
   "source": [
    "import numpy as np\n",
    "import pandas as pd\n",
    "import matplotlib.pyplot as plt\n",
    "from sklearn.model_selection import cross_val_score\n",
    "from sklearn import datasets"
   ]
  },
  {
   "cell_type": "code",
   "execution_count": 5,
   "id": "e08fb46d",
   "metadata": {},
   "outputs": [
    {
     "data": {
      "text/html": [
       "<div>\n",
       "<style scoped>\n",
       "    .dataframe tbody tr th:only-of-type {\n",
       "        vertical-align: middle;\n",
       "    }\n",
       "\n",
       "    .dataframe tbody tr th {\n",
       "        vertical-align: top;\n",
       "    }\n",
       "\n",
       "    .dataframe thead th {\n",
       "        text-align: right;\n",
       "    }\n",
       "</style>\n",
       "<table border=\"1\" class=\"dataframe\">\n",
       "  <thead>\n",
       "    <tr style=\"text-align: right;\">\n",
       "      <th></th>\n",
       "      <th>age</th>\n",
       "      <th>sex</th>\n",
       "      <th>bmi</th>\n",
       "      <th>bp</th>\n",
       "      <th>s1</th>\n",
       "      <th>s2</th>\n",
       "      <th>s3</th>\n",
       "      <th>s4</th>\n",
       "      <th>s5</th>\n",
       "      <th>s6</th>\n",
       "    </tr>\n",
       "  </thead>\n",
       "  <tbody>\n",
       "    <tr>\n",
       "      <th>0</th>\n",
       "      <td>0.038076</td>\n",
       "      <td>0.050680</td>\n",
       "      <td>0.061696</td>\n",
       "      <td>0.021872</td>\n",
       "      <td>-0.044223</td>\n",
       "      <td>-0.034821</td>\n",
       "      <td>-0.043401</td>\n",
       "      <td>-0.002592</td>\n",
       "      <td>0.019907</td>\n",
       "      <td>-0.017646</td>\n",
       "    </tr>\n",
       "    <tr>\n",
       "      <th>1</th>\n",
       "      <td>-0.001882</td>\n",
       "      <td>-0.044642</td>\n",
       "      <td>-0.051474</td>\n",
       "      <td>-0.026328</td>\n",
       "      <td>-0.008449</td>\n",
       "      <td>-0.019163</td>\n",
       "      <td>0.074412</td>\n",
       "      <td>-0.039493</td>\n",
       "      <td>-0.068332</td>\n",
       "      <td>-0.092204</td>\n",
       "    </tr>\n",
       "    <tr>\n",
       "      <th>2</th>\n",
       "      <td>0.085299</td>\n",
       "      <td>0.050680</td>\n",
       "      <td>0.044451</td>\n",
       "      <td>-0.005670</td>\n",
       "      <td>-0.045599</td>\n",
       "      <td>-0.034194</td>\n",
       "      <td>-0.032356</td>\n",
       "      <td>-0.002592</td>\n",
       "      <td>0.002861</td>\n",
       "      <td>-0.025930</td>\n",
       "    </tr>\n",
       "    <tr>\n",
       "      <th>3</th>\n",
       "      <td>-0.089063</td>\n",
       "      <td>-0.044642</td>\n",
       "      <td>-0.011595</td>\n",
       "      <td>-0.036656</td>\n",
       "      <td>0.012191</td>\n",
       "      <td>0.024991</td>\n",
       "      <td>-0.036038</td>\n",
       "      <td>0.034309</td>\n",
       "      <td>0.022688</td>\n",
       "      <td>-0.009362</td>\n",
       "    </tr>\n",
       "    <tr>\n",
       "      <th>4</th>\n",
       "      <td>0.005383</td>\n",
       "      <td>-0.044642</td>\n",
       "      <td>-0.036385</td>\n",
       "      <td>0.021872</td>\n",
       "      <td>0.003935</td>\n",
       "      <td>0.015596</td>\n",
       "      <td>0.008142</td>\n",
       "      <td>-0.002592</td>\n",
       "      <td>-0.031988</td>\n",
       "      <td>-0.046641</td>\n",
       "    </tr>\n",
       "  </tbody>\n",
       "</table>\n",
       "</div>"
      ],
      "text/plain": [
       "        age       sex       bmi        bp        s1        s2        s3  \\\n",
       "0  0.038076  0.050680  0.061696  0.021872 -0.044223 -0.034821 -0.043401   \n",
       "1 -0.001882 -0.044642 -0.051474 -0.026328 -0.008449 -0.019163  0.074412   \n",
       "2  0.085299  0.050680  0.044451 -0.005670 -0.045599 -0.034194 -0.032356   \n",
       "3 -0.089063 -0.044642 -0.011595 -0.036656  0.012191  0.024991 -0.036038   \n",
       "4  0.005383 -0.044642 -0.036385  0.021872  0.003935  0.015596  0.008142   \n",
       "\n",
       "         s4        s5        s6  \n",
       "0 -0.002592  0.019907 -0.017646  \n",
       "1 -0.039493 -0.068332 -0.092204  \n",
       "2 -0.002592  0.002861 -0.025930  \n",
       "3  0.034309  0.022688 -0.009362  \n",
       "4 -0.002592 -0.031988 -0.046641  "
      ]
     },
     "execution_count": 5,
     "metadata": {},
     "output_type": "execute_result"
    }
   ],
   "source": [
    "X,y = datasets.load_diabetes(return_X_y=True,as_frame=True,scaled=True)\n",
    "X.head()"
   ]
  },
  {
   "cell_type": "code",
   "execution_count": 6,
   "id": "4b715abe",
   "metadata": {
    "scrolled": true
   },
   "outputs": [
    {
     "data": {
      "text/plain": [
       "0    151.0\n",
       "1     75.0\n",
       "2    141.0\n",
       "3    206.0\n",
       "4    135.0\n",
       "Name: target, dtype: float64"
      ]
     },
     "execution_count": 6,
     "metadata": {},
     "output_type": "execute_result"
    }
   ],
   "source": [
    "y.head()"
   ]
  },
  {
   "cell_type": "markdown",
   "id": "7bc10036",
   "metadata": {},
   "source": [
    "###### 1. Linear Regression"
   ]
  },
  {
   "cell_type": "code",
   "execution_count": 7,
   "id": "3af6354e",
   "metadata": {},
   "outputs": [],
   "source": [
    "from sklearn.linear_model import LinearRegression\n",
    "linear_reg = LinearRegression()"
   ]
  },
  {
   "cell_type": "code",
   "execution_count": 13,
   "id": "ef633c9e",
   "metadata": {
    "scrolled": true
   },
   "outputs": [
    {
     "name": "stdout",
     "output_type": "stream",
     "text": [
      "Cross-validation scores:\n",
      " [0.5561455  0.23055827 0.35357673 0.62190752 0.2658727  0.61819798\n",
      " 0.41815142 0.43513747 0.43436229 0.68569253]\n",
      "Average score: 0.4619602420450601\n"
     ]
    }
   ],
   "source": [
    "# Perform 10-fold cross-validation\n",
    "cv_scores = cross_val_score(linear_reg, X, y, cv=10)\n",
    "\n",
    "# Print the cross-validation scores\n",
    "print(\"Cross-validation scores:\\n\", cv_scores)\n",
    "print(\"Average score:\", cv_scores.mean())"
   ]
  },
  {
   "cell_type": "markdown",
   "id": "d08fea7a",
   "metadata": {},
   "source": [
    "###### 2. Polynomial Regression"
   ]
  },
  {
   "cell_type": "code",
   "execution_count": 19,
   "id": "fa8c0803",
   "metadata": {},
   "outputs": [],
   "source": [
    "from sklearn.preprocessing import PolynomialFeatures\n",
    "poly_features = PolynomialFeatures(degree=2)\n",
    "X_poly = poly_features.fit_transform(X)\n",
    "\n",
    "poly_reg = LinearRegression()"
   ]
  },
  {
   "cell_type": "code",
   "execution_count": 20,
   "id": "aba95b20",
   "metadata": {
    "scrolled": false
   },
   "outputs": [
    {
     "name": "stdout",
     "output_type": "stream",
     "text": [
      "Cross-validation scores:\n",
      " [0.45380028 0.1932725  0.25414936 0.64308218 0.32770137 0.52506656\n",
      " 0.28704469 0.18076849 0.36161063 0.5721183 ]\n",
      "Average score: 0.3798614369023444\n"
     ]
    }
   ],
   "source": [
    "# Perform 10-fold cross-validation\n",
    "cv_scores = cross_val_score(poly_reg, X_poly, y, cv=10)\n",
    "\n",
    "# Print the cross-validation scores\n",
    "print(\"Cross-validation scores:\\n\", cv_scores)\n",
    "print(\"Average score:\", cv_scores.mean())"
   ]
  },
  {
   "cell_type": "markdown",
   "id": "d116e422",
   "metadata": {},
   "source": [
    "###### 3. SVR"
   ]
  },
  {
   "cell_type": "code",
   "execution_count": 24,
   "id": "c0e6b209",
   "metadata": {},
   "outputs": [],
   "source": [
    "from sklearn.svm import SVR\n",
    "svr = SVR(kernel='rbf')"
   ]
  },
  {
   "cell_type": "code",
   "execution_count": 25,
   "id": "03bb6634",
   "metadata": {},
   "outputs": [
    {
     "name": "stdout",
     "output_type": "stream",
     "text": [
      "Cross-validation scores:\n",
      " [0.15100632 0.09968669 0.14073189 0.14258977 0.20115527 0.17516038\n",
      " 0.17503189 0.06792619 0.15925865 0.20024132]\n",
      "Average score: 0.15127883733424258\n"
     ]
    }
   ],
   "source": [
    "# Perform 10-fold cross-validation\n",
    "cv_scores = cross_val_score(svr, X, y, cv=10)\n",
    "\n",
    "# Print the cross-validation scores\n",
    "print(\"Cross-validation scores:\\n\", cv_scores)\n",
    "print(\"Average score:\", cv_scores.mean())"
   ]
  },
  {
   "cell_type": "markdown",
   "id": "710e6012",
   "metadata": {},
   "source": [
    "### Cross Validation of Classification Models"
   ]
  },
  {
   "cell_type": "code",
   "execution_count": 31,
   "id": "62545419",
   "metadata": {},
   "outputs": [
    {
     "data": {
      "text/html": [
       "<div>\n",
       "<style scoped>\n",
       "    .dataframe tbody tr th:only-of-type {\n",
       "        vertical-align: middle;\n",
       "    }\n",
       "\n",
       "    .dataframe tbody tr th {\n",
       "        vertical-align: top;\n",
       "    }\n",
       "\n",
       "    .dataframe thead th {\n",
       "        text-align: right;\n",
       "    }\n",
       "</style>\n",
       "<table border=\"1\" class=\"dataframe\">\n",
       "  <thead>\n",
       "    <tr style=\"text-align: right;\">\n",
       "      <th></th>\n",
       "      <th>sepal length (cm)</th>\n",
       "      <th>sepal width (cm)</th>\n",
       "      <th>petal length (cm)</th>\n",
       "      <th>petal width (cm)</th>\n",
       "    </tr>\n",
       "  </thead>\n",
       "  <tbody>\n",
       "    <tr>\n",
       "      <th>0</th>\n",
       "      <td>-0.900681</td>\n",
       "      <td>1.019004</td>\n",
       "      <td>-1.340227</td>\n",
       "      <td>-1.315444</td>\n",
       "    </tr>\n",
       "    <tr>\n",
       "      <th>1</th>\n",
       "      <td>-1.143017</td>\n",
       "      <td>-0.131979</td>\n",
       "      <td>-1.340227</td>\n",
       "      <td>-1.315444</td>\n",
       "    </tr>\n",
       "    <tr>\n",
       "      <th>2</th>\n",
       "      <td>-1.385353</td>\n",
       "      <td>0.328414</td>\n",
       "      <td>-1.397064</td>\n",
       "      <td>-1.315444</td>\n",
       "    </tr>\n",
       "    <tr>\n",
       "      <th>3</th>\n",
       "      <td>-1.506521</td>\n",
       "      <td>0.098217</td>\n",
       "      <td>-1.283389</td>\n",
       "      <td>-1.315444</td>\n",
       "    </tr>\n",
       "    <tr>\n",
       "      <th>4</th>\n",
       "      <td>-1.021849</td>\n",
       "      <td>1.249201</td>\n",
       "      <td>-1.340227</td>\n",
       "      <td>-1.315444</td>\n",
       "    </tr>\n",
       "  </tbody>\n",
       "</table>\n",
       "</div>"
      ],
      "text/plain": [
       "   sepal length (cm)  sepal width (cm)  petal length (cm)  petal width (cm)\n",
       "0          -0.900681          1.019004          -1.340227         -1.315444\n",
       "1          -1.143017         -0.131979          -1.340227         -1.315444\n",
       "2          -1.385353          0.328414          -1.397064         -1.315444\n",
       "3          -1.506521          0.098217          -1.283389         -1.315444\n",
       "4          -1.021849          1.249201          -1.340227         -1.315444"
      ]
     },
     "execution_count": 31,
     "metadata": {},
     "output_type": "execute_result"
    }
   ],
   "source": [
    "from sklearn.datasets import load_iris\n",
    "X, y = load_iris(return_X_y=True, as_frame=True)\n",
    "from sklearn.preprocessing import StandardScaler\n",
    "scaler = StandardScaler()\n",
    "scaled_data = scaler.fit_transform(X) # scaled_data is a numpy array\n",
    "\n",
    "X = pd.DataFrame(scaled_data, columns=['sepal length (cm)','sepal width (cm)', 'petal length (cm)', 'petal width (cm)'])\n",
    "X.head()"
   ]
  },
  {
   "cell_type": "markdown",
   "id": "dadf36f8",
   "metadata": {},
   "source": [
    "###### 1. Logistic Regression"
   ]
  },
  {
   "cell_type": "code",
   "execution_count": 32,
   "id": "f4c24d85",
   "metadata": {},
   "outputs": [],
   "source": [
    "from sklearn.linear_model import LogisticRegression\n",
    "lr = LogisticRegression()"
   ]
  },
  {
   "cell_type": "code",
   "execution_count": 37,
   "id": "83ab2f08",
   "metadata": {},
   "outputs": [
    {
     "name": "stdout",
     "output_type": "stream",
     "text": [
      "Cross-validation scores:\n",
      " [1.         0.93333333 1.         1.         0.93333333 0.93333333\n",
      " 0.8        1.         1.         1.        ]\n",
      "Average score: 0.9600000000000002\n"
     ]
    }
   ],
   "source": [
    "# Perform 10-fold cross-validation\n",
    "cv_scores = cross_val_score(lr, X, y, cv=10)\n",
    "\n",
    "# Print the cross-validation scores\n",
    "print(\"Cross-validation scores:\\n\", cv_scores)\n",
    "print(\"Average score:\", cv_scores.mean())"
   ]
  },
  {
   "cell_type": "markdown",
   "id": "1c423e6c",
   "metadata": {},
   "source": [
    "###### 2. Decision Trees"
   ]
  },
  {
   "cell_type": "code",
   "execution_count": 38,
   "id": "5e17d546",
   "metadata": {},
   "outputs": [],
   "source": [
    "from sklearn.tree import DecisionTreeClassifier\n",
    "dt = DecisionTreeClassifier()"
   ]
  },
  {
   "cell_type": "code",
   "execution_count": 39,
   "id": "935194e7",
   "metadata": {},
   "outputs": [
    {
     "name": "stdout",
     "output_type": "stream",
     "text": [
      "Cross-validation scores:\n",
      " [1.         0.93333333 1.         0.93333333 0.93333333 0.86666667\n",
      " 0.93333333 1.         1.         1.        ]\n",
      "Average score: 0.96\n"
     ]
    }
   ],
   "source": [
    "# Perform 10-fold cross-validation\n",
    "cv_scores = cross_val_score(dt, X, y, cv=10)\n",
    "\n",
    "# Print the cross-validation scores\n",
    "print(\"Cross-validation scores:\\n\", cv_scores)\n",
    "print(\"Average score:\", cv_scores.mean())"
   ]
  },
  {
   "cell_type": "markdown",
   "id": "e27549a4",
   "metadata": {},
   "source": [
    "##### 3.Random Forest"
   ]
  },
  {
   "cell_type": "code",
   "execution_count": 40,
   "id": "fee5b501",
   "metadata": {},
   "outputs": [],
   "source": [
    "from sklearn.ensemble import RandomForestClassifier\n",
    "rf = RandomForestClassifier()"
   ]
  },
  {
   "cell_type": "code",
   "execution_count": 41,
   "id": "a2efc6d3",
   "metadata": {},
   "outputs": [
    {
     "name": "stdout",
     "output_type": "stream",
     "text": [
      "Cross-validation scores:\n",
      " [1.         0.93333333 1.         0.93333333 0.93333333 0.93333333\n",
      " 0.93333333 1.         1.         1.        ]\n",
      "Average score: 0.9666666666666666\n"
     ]
    }
   ],
   "source": [
    "# Perform 10-fold cross-validation\n",
    "cv_scores = cross_val_score(rf, X, y, cv=10)\n",
    "\n",
    "# Print the cross-validation scores\n",
    "print(\"Cross-validation scores:\\n\", cv_scores)\n",
    "print(\"Average score:\", cv_scores.mean())"
   ]
  },
  {
   "cell_type": "markdown",
   "id": "5a7f2427",
   "metadata": {},
   "source": [
    "##### 4.SVM"
   ]
  },
  {
   "cell_type": "code",
   "execution_count": 42,
   "id": "1c22adea",
   "metadata": {},
   "outputs": [],
   "source": [
    "from sklearn.svm import SVC\n",
    "svc = SVC()"
   ]
  },
  {
   "cell_type": "code",
   "execution_count": 43,
   "id": "a262a0e7",
   "metadata": {},
   "outputs": [
    {
     "name": "stdout",
     "output_type": "stream",
     "text": [
      "Cross-validation scores:\n",
      " [1.         0.93333333 1.         0.93333333 1.         0.93333333\n",
      " 0.86666667 1.         1.         1.        ]\n",
      "Average score: 0.9666666666666666\n"
     ]
    }
   ],
   "source": [
    "# Perform 10-fold cross-validation\n",
    "cv_scores = cross_val_score(svc, X, y, cv=10)\n",
    "\n",
    "# Print the cross-validation scores\n",
    "print(\"Cross-validation scores:\\n\", cv_scores)\n",
    "print(\"Average score:\", cv_scores.mean())"
   ]
  },
  {
   "cell_type": "markdown",
   "id": "cf9eced0",
   "metadata": {},
   "source": [
    "##### 5.Naive Bayes"
   ]
  },
  {
   "cell_type": "code",
   "execution_count": 44,
   "id": "0c762db3",
   "metadata": {},
   "outputs": [],
   "source": [
    "from sklearn.naive_bayes import GaussianNB\n",
    "nb = GaussianNB()"
   ]
  },
  {
   "cell_type": "code",
   "execution_count": 45,
   "id": "334e3f44",
   "metadata": {},
   "outputs": [
    {
     "name": "stdout",
     "output_type": "stream",
     "text": [
      "Cross-validation scores:\n",
      " [0.93333333 0.93333333 1.         0.93333333 0.93333333 0.93333333\n",
      " 0.86666667 1.         1.         1.        ]\n",
      "Average score: 0.9533333333333334\n"
     ]
    }
   ],
   "source": [
    "# Perform 10-fold cross-validation\n",
    "cv_scores = cross_val_score(nb, X, y, cv=10)\n",
    "\n",
    "# Print the cross-validation scores\n",
    "print(\"Cross-validation scores:\\n\", cv_scores)\n",
    "print(\"Average score:\", cv_scores.mean())"
   ]
  },
  {
   "cell_type": "markdown",
   "id": "2264520e",
   "metadata": {},
   "source": [
    "##### 6.KNN"
   ]
  },
  {
   "cell_type": "code",
   "execution_count": 46,
   "id": "9a6b0533",
   "metadata": {},
   "outputs": [],
   "source": [
    "from sklearn.neighbors import KNeighborsClassifier\n",
    "knn = KNeighborsClassifier()"
   ]
  },
  {
   "cell_type": "code",
   "execution_count": 47,
   "id": "944ffe6c",
   "metadata": {},
   "outputs": [
    {
     "name": "stdout",
     "output_type": "stream",
     "text": [
      "Cross-validation scores:\n",
      " [1.         0.93333333 1.         0.93333333 0.86666667 0.93333333\n",
      " 0.86666667 1.         1.         1.        ]\n",
      "Average score: 0.9533333333333334\n"
     ]
    }
   ],
   "source": [
    "# Perform 10-fold cross-validation\n",
    "cv_scores = cross_val_score(knn, X, y, cv=10)\n",
    "\n",
    "# Print the cross-validation scores\n",
    "print(\"Cross-validation scores:\\n\", cv_scores)\n",
    "print(\"Average score:\", cv_scores.mean())"
   ]
  },
  {
   "cell_type": "markdown",
   "id": "f55f640d",
   "metadata": {},
   "source": [
    "##### 7.Neural Networks"
   ]
  },
  {
   "cell_type": "code",
   "execution_count": 56,
   "id": "10c9b18c",
   "metadata": {},
   "outputs": [],
   "source": [
    "from sklearn.neural_network import MLPClassifier\n",
    "nn = MLPClassifier(max_iter=600)"
   ]
  },
  {
   "cell_type": "code",
   "execution_count": 57,
   "id": "9489f962",
   "metadata": {},
   "outputs": [
    {
     "name": "stdout",
     "output_type": "stream",
     "text": [
      "Cross-validation scores:\n",
      " [1.         1.         1.         1.         0.93333333 0.93333333\n",
      " 0.86666667 1.         1.         1.        ]\n",
      "Average score: 0.9733333333333334\n"
     ]
    }
   ],
   "source": [
    "# Perform 10-fold cross-validation\n",
    "cv_scores = cross_val_score(nn, X, y, cv=10)\n",
    "\n",
    "# Print the cross-validation scores\n",
    "print(\"Cross-validation scores:\\n\", cv_scores)\n",
    "print(\"Average score:\", cv_scores.mean())"
   ]
  },
  {
   "cell_type": "code",
   "execution_count": null,
   "id": "2fd1ae81",
   "metadata": {},
   "outputs": [],
   "source": []
  }
 ],
 "metadata": {
  "kernelspec": {
   "display_name": "Python 3 (ipykernel)",
   "language": "python",
   "name": "python3"
  },
  "language_info": {
   "codemirror_mode": {
    "name": "ipython",
    "version": 3
   },
   "file_extension": ".py",
   "mimetype": "text/x-python",
   "name": "python",
   "nbconvert_exporter": "python",
   "pygments_lexer": "ipython3",
   "version": "3.9.13"
  }
 },
 "nbformat": 4,
 "nbformat_minor": 5
}
