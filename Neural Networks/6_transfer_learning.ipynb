{
  "cells": [
    {
      "cell_type": "markdown",
      "metadata": {
        "id": "view-in-github",
        "colab_type": "text"
      },
      "source": [
        "<a href=\"https://colab.research.google.com/github/isurushanaka/AII_Course-1/blob/main/Neural%20Networks/6_pre-trained_models.ipynb\" target=\"_parent\"><img src=\"https://colab.research.google.com/assets/colab-badge.svg\" alt=\"Open In Colab\"/></a>"
      ]
    },
    {
      "cell_type": "markdown",
      "id": "b3966aee",
      "metadata": {
        "id": "b3966aee"
      },
      "source": [
        "## Cats and Dogs Classification"
      ]
    },
    {
      "cell_type": "code",
      "execution_count": null,
      "id": "f0bf2268",
      "metadata": {
        "id": "f0bf2268"
      },
      "outputs": [],
      "source": [
        "import numpy as np\n",
        "from tensorflow import keras\n",
        "from tensorflow.keras.datasets import cifar10\n",
        "from tensorflow.keras.preprocessing.image import ImageDataGenerator\n",
        "from tensorflow.keras.applications.vgg16 import VGG16\n",
        "from tensorflow.keras.layers import Flatten, Dense, Dropout\n",
        "from tensorflow.keras.models import Model"
      ]
    },
    {
      "cell_type": "markdown",
      "id": "4e8c2e43",
      "metadata": {
        "id": "4e8c2e43"
      },
      "source": [
        "#### Download and Extract the Dataset\n",
        "[Dataset Link](https://www.microsoft.com/en-us/download/details.aspx?id=54765)"
      ]
    },
    {
      "cell_type": "code",
      "execution_count": null,
      "id": "3fd2704d",
      "metadata": {
        "id": "3fd2704d"
      },
      "outputs": [],
      "source": [
        "path_to_dataset = \"PetImages\""
      ]
    },
    {
      "cell_type": "code",
      "execution_count": null,
      "id": "730745b1",
      "metadata": {
        "id": "730745b1"
      },
      "outputs": [],
      "source": [
        "# Define the input shape\n",
        "input_shape = (150, 150, 3)"
      ]
    },
    {
      "cell_type": "code",
      "execution_count": null,
      "id": "ae49acf6",
      "metadata": {
        "id": "ae49acf6",
        "outputId": "f27638a5-f80f-480d-a9d7-661f0f6ad9e7"
      },
      "outputs": [
        {
          "name": "stdout",
          "output_type": "stream",
          "text": [
            "Downloading data from https://storage.googleapis.com/tensorflow/keras-applications/vgg16/vgg16_weights_tf_dim_ordering_tf_kernels_notop.h5\n",
            "58889256/58889256 [==============================] - 12s 0us/step\n"
          ]
        }
      ],
      "source": [
        "# Load the pre-trained VGG16 model without the top classification layer\n",
        "base_model = VGG16(weights='imagenet', include_top=False, input_shape=input_shape)\n",
        "\n",
        "# Freeze the pre-trained layers\n",
        "for layer in base_model.layers:\n",
        "    layer.trainable = False"
      ]
    },
    {
      "cell_type": "code",
      "execution_count": null,
      "id": "509b89ae",
      "metadata": {
        "id": "509b89ae"
      },
      "outputs": [],
      "source": [
        "# Create a new top classification layer\n",
        "x = base_model.output\n",
        "x = Flatten()(x)\n",
        "x = Dense(256, activation='relu')(x)\n",
        "x = Dropout(0.5)(x)\n",
        "predictions = Dense(2, activation='softmax')(x)\n",
        "\n",
        "# Build the modified model\n",
        "model = Model(inputs=base_model.input, outputs=predictions)"
      ]
    },
    {
      "cell_type": "code",
      "execution_count": null,
      "id": "5a6cd2f1",
      "metadata": {
        "id": "5a6cd2f1",
        "outputId": "673ff358-844b-476e-f29c-1f856b529962"
      },
      "outputs": [
        {
          "name": "stdout",
          "output_type": "stream",
          "text": [
            "Model: \"model\"\n",
            "_________________________________________________________________\n",
            " Layer (type)                Output Shape              Param #   \n",
            "=================================================================\n",
            " input_1 (InputLayer)        [(None, 150, 150, 3)]     0         \n",
            "                                                                 \n",
            " block1_conv1 (Conv2D)       (None, 150, 150, 64)      1792      \n",
            "                                                                 \n",
            " block1_conv2 (Conv2D)       (None, 150, 150, 64)      36928     \n",
            "                                                                 \n",
            " block1_pool (MaxPooling2D)  (None, 75, 75, 64)        0         \n",
            "                                                                 \n",
            " block2_conv1 (Conv2D)       (None, 75, 75, 128)       73856     \n",
            "                                                                 \n",
            " block2_conv2 (Conv2D)       (None, 75, 75, 128)       147584    \n",
            "                                                                 \n",
            " block2_pool (MaxPooling2D)  (None, 37, 37, 128)       0         \n",
            "                                                                 \n",
            " block3_conv1 (Conv2D)       (None, 37, 37, 256)       295168    \n",
            "                                                                 \n",
            " block3_conv2 (Conv2D)       (None, 37, 37, 256)       590080    \n",
            "                                                                 \n",
            " block3_conv3 (Conv2D)       (None, 37, 37, 256)       590080    \n",
            "                                                                 \n",
            " block3_pool (MaxPooling2D)  (None, 18, 18, 256)       0         \n",
            "                                                                 \n",
            " block4_conv1 (Conv2D)       (None, 18, 18, 512)       1180160   \n",
            "                                                                 \n",
            " block4_conv2 (Conv2D)       (None, 18, 18, 512)       2359808   \n",
            "                                                                 \n",
            " block4_conv3 (Conv2D)       (None, 18, 18, 512)       2359808   \n",
            "                                                                 \n",
            " block4_pool (MaxPooling2D)  (None, 9, 9, 512)         0         \n",
            "                                                                 \n",
            " block5_conv1 (Conv2D)       (None, 9, 9, 512)         2359808   \n",
            "                                                                 \n",
            " block5_conv2 (Conv2D)       (None, 9, 9, 512)         2359808   \n",
            "                                                                 \n",
            " block5_conv3 (Conv2D)       (None, 9, 9, 512)         2359808   \n",
            "                                                                 \n",
            " block5_pool (MaxPooling2D)  (None, 4, 4, 512)         0         \n",
            "                                                                 \n",
            " flatten (Flatten)           (None, 8192)              0         \n",
            "                                                                 \n",
            " dense (Dense)               (None, 256)               2097408   \n",
            "                                                                 \n",
            " dropout (Dropout)           (None, 256)               0         \n",
            "                                                                 \n",
            " dense_1 (Dense)             (None, 2)                 514       \n",
            "                                                                 \n",
            "=================================================================\n",
            "Total params: 16,812,610\n",
            "Trainable params: 2,097,922\n",
            "Non-trainable params: 14,714,688\n",
            "_________________________________________________________________\n"
          ]
        }
      ],
      "source": [
        "model.summary()"
      ]
    },
    {
      "cell_type": "code",
      "execution_count": null,
      "id": "f3bf5970",
      "metadata": {
        "id": "f3bf5970"
      },
      "outputs": [],
      "source": [
        "# Freeze the pre-trained layers\n",
        "for layer in base_model.layers:\n",
        "    layer.trainable = False"
      ]
    },
    {
      "cell_type": "code",
      "execution_count": null,
      "id": "ea05f8ff",
      "metadata": {
        "id": "ea05f8ff"
      },
      "outputs": [],
      "source": [
        "# Compile the model\n",
        "model.compile(optimizer='adam', loss='categorical_crossentropy', metrics=['accuracy'])"
      ]
    },
    {
      "cell_type": "code",
      "execution_count": null,
      "id": "bf228005",
      "metadata": {
        "id": "bf228005",
        "outputId": "6cd134f0-6277-4df1-e815-aa3eae90069c"
      },
      "outputs": [
        {
          "name": "stdout",
          "output_type": "stream",
          "text": [
            "Found 25000 images belonging to 2 classes.\n"
          ]
        }
      ],
      "source": [
        "# Data augmentation\n",
        "train_datagen = ImageDataGenerator(rescale=1./255,\n",
        "                                   shear_range=0.2,\n",
        "                                   zoom_range=0.2,\n",
        "                                   horizontal_flip=True)\n",
        "\n",
        "# Load and preprocess the training and validation data\n",
        "train_generator = train_datagen.flow_from_directory(path_to_dataset,\n",
        "                                                    target_size=(150, 150),\n",
        "                                                    batch_size=32,\n",
        "                                                    class_mode='categorical')\n"
      ]
    },
    {
      "cell_type": "code",
      "execution_count": null,
      "id": "9f97d3b2",
      "metadata": {
        "id": "9f97d3b2"
      },
      "outputs": [],
      "source": [
        "# Train the model\n",
        "model.fit(train_generator,\n",
        "          steps_per_epoch=len(train_generator),\n",
        "          epochs=10,\n",
        "          validation_data=validation_generator,\n",
        "          validation_steps=len(validation_generator))"
      ]
    },
    {
      "cell_type": "code",
      "execution_count": null,
      "id": "aa95fea2",
      "metadata": {
        "id": "aa95fea2"
      },
      "outputs": [],
      "source": [
        "# Compute the training accuracy\n",
        "accuracy = model.evaluate(train_generator)[1]\n",
        "print('Accuracy:', accuracy)"
      ]
    },
    {
      "cell_type": "code",
      "execution_count": null,
      "id": "a9571d7a",
      "metadata": {
        "id": "a9571d7a"
      },
      "outputs": [],
      "source": [
        "# Save the trained model\n",
        "model.save('cat_dog_classifier.h5')"
      ]
    },
    {
      "cell_type": "code",
      "execution_count": null,
      "id": "773a8b5e",
      "metadata": {
        "id": "773a8b5e"
      },
      "outputs": [],
      "source": [
        "import matplotlib.pyplot as plt\n",
        "# Plot some example images\n",
        "class_names = ['Cat', 'Dog']\n",
        "example_images = train_generator.next()[0]\n",
        "example_labels = train_generator.next()[1]\n",
        "\n",
        "fig, axes = plt.subplots(2, 5, figsize=(12, 6))\n",
        "axes = axes.ravel()\n",
        "\n",
        "for i in range(10):\n",
        "    axes[i].imshow(example_images[i])\n",
        "    axes[i].set_title(class_names[int(example_labels[i])])\n",
        "    axes[i].axis('off')\n",
        "\n",
        "plt.tight_layout()\n",
        "plt.show()"
      ]
    }
  ],
  "metadata": {
    "kernelspec": {
      "display_name": "Python 3 (ipykernel)",
      "language": "python",
      "name": "python3"
    },
    "language_info": {
      "codemirror_mode": {
        "name": "ipython",
        "version": 3
      },
      "file_extension": ".py",
      "mimetype": "text/x-python",
      "name": "python",
      "nbconvert_exporter": "python",
      "pygments_lexer": "ipython3",
      "version": "3.9.13"
    },
    "colab": {
      "provenance": [],
      "include_colab_link": true
    }
  },
  "nbformat": 4,
  "nbformat_minor": 5
}
