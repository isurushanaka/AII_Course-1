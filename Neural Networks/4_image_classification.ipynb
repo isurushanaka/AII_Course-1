{
  "cells": [
    {
      "cell_type": "markdown",
      "metadata": {
        "id": "view-in-github",
        "colab_type": "text"
      },
      "source": [
        "<a href=\"https://colab.research.google.com/github/isurushanaka/AII_Course-1/blob/main/Neural%20Networks/4_image_classification.ipynb\" target=\"_parent\"><img src=\"https://colab.research.google.com/assets/colab-badge.svg\" alt=\"Open In Colab\"/></a>"
      ]
    },
    {
      "cell_type": "markdown",
      "id": "36f849c1",
      "metadata": {
        "id": "36f849c1"
      },
      "source": [
        "# Image Classification\n",
        "\n",
        "#### [MNIST Dataset](https://en.wikipedia.org/wiki/MNIST_database): Handwritten Digits\n",
        "\n",
        "![sample](https://upload.wikimedia.org/wikipedia/commons/f/f7/MnistExamplesModified.png)"
      ]
    },
    {
      "cell_type": "code",
      "execution_count": null,
      "id": "5e5ddf85",
      "metadata": {
        "id": "5e5ddf85"
      },
      "outputs": [],
      "source": [
        "import numpy as np\n",
        "from keras.models import Sequential\n",
        "from keras.layers import Dense\n",
        "from matplotlib import pyplot as plt"
      ]
    },
    {
      "cell_type": "code",
      "execution_count": null,
      "id": "3167f0a0",
      "metadata": {
        "id": "3167f0a0",
        "outputId": "3f2affd1-0b74-4c0a-cd22-3136408f2eb4"
      },
      "outputs": [
        {
          "name": "stdout",
          "output_type": "stream",
          "text": [
            "Downloading data from https://storage.googleapis.com/tensorflow/tf-keras-datasets/mnist.npz\n",
            "11490434/11490434 [==============================] - 6s 1us/step\n"
          ]
        }
      ],
      "source": [
        "# Load the MNIST dataset\n",
        "from keras.datasets import mnist\n",
        "(x_train, y_train), (x_test, y_test) = mnist.load_data()"
      ]
    },
    {
      "cell_type": "code",
      "execution_count": null,
      "id": "6d7e5b16",
      "metadata": {
        "id": "6d7e5b16",
        "outputId": "4884662a-4455-4b90-ac26-f75a78231bf4"
      },
      "outputs": [
        {
          "data": {
            "image/png": "[encoded data removed]",
            "text/plain": [
              "<Figure size 1000x400 with 10 Axes>"
            ]
          },
          "metadata": {},
          "output_type": "display_data"
        }
      ],
      "source": [
        "# Plot some examples from the test set\n",
        "fig, axes = plt.subplots(2, 5, figsize=(10, 4))\n",
        "for i, ax in enumerate(axes.flat):\n",
        "    ax.imshow(x_train[i].reshape(28, 28), cmap='gray')\n",
        "    ax.set_title(f'Label: {y_train[i]}')\n",
        "    ax.axis('off')\n",
        "plt.show()"
      ]
    },
    {
      "cell_type": "code",
      "execution_count": null,
      "id": "8703ba7f",
      "metadata": {
        "id": "8703ba7f"
      },
      "outputs": [],
      "source": [
        "# Preprocess the data\n",
        "x_train = x_train.reshape(60000, 784) # Flatten the images (28x28 pixels) into 1D vectors\n",
        "x_test = x_test.reshape(10000, 784)\n",
        "x_train = x_train.astype('float32') / 255 # Normalize pixel values to the range 0-1\n",
        "x_test = x_test.astype('float32') / 255\n",
        "y_train = np.eye(10)[y_train] # Convert class labels to one-hot encoded vectors\n",
        "y_test = np.eye(10)[y_test]"
      ]
    },
    {
      "cell_type": "code",
      "execution_count": null,
      "id": "a34dbc90",
      "metadata": {
        "id": "a34dbc90"
      },
      "outputs": [],
      "source": [
        "# Define the MLP model\n",
        "model = Sequential()\n",
        "model.add(Dense(512, activation='relu', input_shape=(784,)))\n",
        "model.add(Dense(512, activation='relu'))\n",
        "model.add(Dense(10, activation='softmax'))\n",
        "\n",
        "# Compile the model\n",
        "model.compile(loss='categorical_crossentropy', optimizer='adam', metrics=['accuracy'])\n"
      ]
    },
    {
      "cell_type": "code",
      "execution_count": null,
      "id": "cb485dc7",
      "metadata": {
        "id": "cb485dc7",
        "outputId": "78ee4957-df83-4a5d-93cb-6261253e850a"
      },
      "outputs": [
        {
          "name": "stdout",
          "output_type": "stream",
          "text": [
            "Epoch 1/10\n",
            "469/469 [==============================] - 12s 20ms/step - loss: 0.2162 - accuracy: 0.9363 - val_loss: 0.1229 - val_accuracy: 0.9614\n",
            "Epoch 2/10\n",
            "469/469 [==============================] - 8s 18ms/step - loss: 0.0796 - accuracy: 0.9747 - val_loss: 0.0766 - val_accuracy: 0.9776\n",
            "Epoch 3/10\n",
            "469/469 [==============================] - 8s 17ms/step - loss: 0.0521 - accuracy: 0.9838 - val_loss: 0.0675 - val_accuracy: 0.9795\n",
            "Epoch 4/10\n",
            "469/469 [==============================] - 8s 17ms/step - loss: 0.0359 - accuracy: 0.9881 - val_loss: 0.0746 - val_accuracy: 0.9785\n",
            "Epoch 5/10\n",
            "469/469 [==============================] - 8s 17ms/step - loss: 0.0266 - accuracy: 0.9917 - val_loss: 0.0648 - val_accuracy: 0.9815\n",
            "Epoch 6/10\n",
            "469/469 [==============================] - 8s 16ms/step - loss: 0.0203 - accuracy: 0.9931 - val_loss: 0.0684 - val_accuracy: 0.9790\n",
            "Epoch 7/10\n",
            "469/469 [==============================] - 7s 15ms/step - loss: 0.0204 - accuracy: 0.9934 - val_loss: 0.0710 - val_accuracy: 0.9817\n",
            "Epoch 8/10\n",
            "469/469 [==============================] - 9s 18ms/step - loss: 0.0139 - accuracy: 0.9953 - val_loss: 0.0798 - val_accuracy: 0.9799\n",
            "Epoch 9/10\n",
            "469/469 [==============================] - 9s 19ms/step - loss: 0.0164 - accuracy: 0.9947 - val_loss: 0.0722 - val_accuracy: 0.9810\n",
            "Epoch 10/10\n",
            "469/469 [==============================] - 9s 19ms/step - loss: 0.0104 - accuracy: 0.9964 - val_loss: 0.0877 - val_accuracy: 0.9803\n"
          ]
        },
        {
          "data": {
            "text/plain": [
              "<keras.callbacks.History at 0x1e0e55d4e20>"
            ]
          },
          "execution_count": 8,
          "metadata": {},
          "output_type": "execute_result"
        }
      ],
      "source": [
        "# Train the model\n",
        "model.fit(x_train, y_train, batch_size=128, epochs=10, validation_data=(x_test, y_test))"
      ]
    },
    {
      "cell_type": "code",
      "execution_count": null,
      "id": "f7150ebf",
      "metadata": {
        "id": "f7150ebf",
        "outputId": "298a5ff6-c7a3-4810-e5ec-fbdffdcf90fa"
      },
      "outputs": [
        {
          "name": "stdout",
          "output_type": "stream",
          "text": [
            "313/313 [==============================] - 2s 6ms/step - loss: 0.0877 - accuracy: 0.9803\n",
            "Test loss: 0.08768399059772491\n",
            "Test accuracy: 0.9803000092506409\n"
          ]
        }
      ],
      "source": [
        "# Evaluate the model on test data\n",
        "loss, accuracy = model.evaluate(x_test, y_test)\n",
        "print('Test loss:', loss)\n",
        "print('Test accuracy:', accuracy)\n"
      ]
    },
    {
      "cell_type": "code",
      "execution_count": null,
      "id": "b7099dad",
      "metadata": {
        "id": "b7099dad",
        "outputId": "0b94f886-0632-4e94-a3fa-46b06c841d20"
      },
      "outputs": [
        {
          "data": {
            "image/png": "[encoded data removed]",
            "text/plain": [
              "<Figure size 1000x400 with 10 Axes>"
            ]
          },
          "metadata": {},
          "output_type": "display_data"
        }
      ],
      "source": [
        "# Plot some examples from the test set\n",
        "fig, axes = plt.subplots(2, 5, figsize=(10, 4))\n",
        "for i, ax in enumerate(axes.flat):\n",
        "    ax.imshow(x_test[i].reshape(28, 28), cmap='gray')\n",
        "    ax.set_title(f'Label: {np.argmax(y_test[i])}')\n",
        "    ax.axis('off')\n",
        "plt.show()"
      ]
    },
    {
      "cell_type": "markdown",
      "id": "fea8f120",
      "metadata": {
        "id": "fea8f120"
      },
      "source": [
        "# Image Classification with CNN"
      ]
    },
    {
      "cell_type": "code",
      "execution_count": null,
      "id": "cbfe7c5c",
      "metadata": {
        "id": "cbfe7c5c"
      },
      "outputs": [],
      "source": [
        "import numpy as np\n",
        "from tensorflow import keras\n",
        "from tensorflow.keras.datasets import mnist\n",
        "from tensorflow.keras.models import Sequential\n",
        "from tensorflow.keras.layers import Dense, Conv2D, MaxPooling2D, Flatten"
      ]
    },
    {
      "cell_type": "code",
      "execution_count": null,
      "id": "6a2a0310",
      "metadata": {
        "id": "6a2a0310"
      },
      "outputs": [],
      "source": [
        "# Load the MNIST dataset\n",
        "(x_train, y_train), (x_test, y_test) = mnist.load_data()"
      ]
    },
    {
      "cell_type": "code",
      "execution_count": null,
      "id": "f4951abc",
      "metadata": {
        "id": "f4951abc"
      },
      "outputs": [],
      "source": [
        "# Preprocess the data\n",
        "x_train = x_train.reshape(-1, 28, 28, 1).astype('float32') / 255.0\n",
        "x_test = x_test.reshape(-1, 28, 28, 1).astype('float32') / 255.0\n",
        "y_train = keras.utils.to_categorical(y_train)\n",
        "y_test = keras.utils.to_categorical(y_test)"
      ]
    },
    {
      "cell_type": "code",
      "execution_count": null,
      "id": "1ab63e45",
      "metadata": {
        "id": "1ab63e45"
      },
      "outputs": [],
      "source": [
        "# Define the CNN model architecture\n",
        "model = Sequential()\n",
        "model.add(Conv2D(32, (3, 3), activation='relu', input_shape=(28, 28, 1)))\n",
        "model.add(MaxPooling2D((2, 2)))\n",
        "model.add(Flatten())\n",
        "model.add(Dense(10, activation='softmax'))\n",
        "\n",
        "# Compile the model\n",
        "model.compile(optimizer='adam', loss='categorical_crossentropy', metrics=['accuracy'])"
      ]
    },
    {
      "cell_type": "code",
      "execution_count": null,
      "id": "2eecd622",
      "metadata": {
        "id": "2eecd622"
      },
      "outputs": [],
      "source": [
        "model.summary()"
      ]
    },
    {
      "cell_type": "code",
      "execution_count": null,
      "id": "a8ba583a",
      "metadata": {
        "id": "a8ba583a",
        "outputId": "f5f1237a-00d8-4b84-b671-078c212957a6"
      },
      "outputs": [
        {
          "name": "stdout",
          "output_type": "stream",
          "text": [
            "Epoch 1/10\n",
            "469/469 [==============================] - 29s 56ms/step - loss: 0.3491 - accuracy: 0.9045 - val_loss: 0.1544 - val_accuracy: 0.9568\n",
            "Epoch 2/10\n",
            "469/469 [==============================] - 26s 55ms/step - loss: 0.1268 - accuracy: 0.9647 - val_loss: 0.1017 - val_accuracy: 0.9716\n",
            "Epoch 3/10\n",
            "469/469 [==============================] - 25s 52ms/step - loss: 0.0893 - accuracy: 0.9747 - val_loss: 0.0790 - val_accuracy: 0.9754\n",
            "Epoch 4/10\n",
            "469/469 [==============================] - 26s 55ms/step - loss: 0.0724 - accuracy: 0.9792 - val_loss: 0.0705 - val_accuracy: 0.9787\n",
            "Epoch 5/10\n",
            "469/469 [==============================] - 28s 59ms/step - loss: 0.0621 - accuracy: 0.9818 - val_loss: 0.0661 - val_accuracy: 0.9787\n",
            "Epoch 6/10\n",
            "469/469 [==============================] - 28s 59ms/step - loss: 0.0549 - accuracy: 0.9842 - val_loss: 0.0654 - val_accuracy: 0.9784\n",
            "Epoch 7/10\n",
            "469/469 [==============================] - 39s 83ms/step - loss: 0.0506 - accuracy: 0.9854 - val_loss: 0.0588 - val_accuracy: 0.9806\n",
            "Epoch 8/10\n",
            "469/469 [==============================] - 48s 102ms/step - loss: 0.0457 - accuracy: 0.9868 - val_loss: 0.0588 - val_accuracy: 0.9802\n",
            "Epoch 9/10\n",
            "469/469 [==============================] - 45s 97ms/step - loss: 0.0416 - accuracy: 0.9879 - val_loss: 0.0588 - val_accuracy: 0.9807\n",
            "Epoch 10/10\n",
            "469/469 [==============================] - 43s 93ms/step - loss: 0.0386 - accuracy: 0.9884 - val_loss: 0.0531 - val_accuracy: 0.9821\n"
          ]
        },
        {
          "data": {
            "text/plain": [
              "<keras.callbacks.History at 0x1e0e5281cd0>"
            ]
          },
          "execution_count": 15,
          "metadata": {},
          "output_type": "execute_result"
        }
      ],
      "source": [
        "# Train the model\n",
        "model.fit(x_train, y_train, batch_size=128, epochs=10, verbose=1, validation_data=(x_test, y_test))"
      ]
    },
    {
      "cell_type": "code",
      "execution_count": null,
      "id": "12077ea8",
      "metadata": {
        "id": "12077ea8",
        "outputId": "d66fff39-9983-4e23-b26a-c3ec9515edee"
      },
      "outputs": [
        {
          "name": "stdout",
          "output_type": "stream",
          "text": [
            "Test Loss: 0.0531\n",
            "Test Accuracy: 0.9821\n"
          ]
        }
      ],
      "source": [
        "# Evaluate the model\n",
        "loss, accuracy = model.evaluate(x_test, y_test, verbose=0)\n",
        "print(f'Test Loss: {loss:.4f}')\n",
        "print(f'Test Accuracy: {accuracy:.4f}')\n"
      ]
    },
    {
      "cell_type": "code",
      "execution_count": null,
      "id": "040ed345",
      "metadata": {
        "id": "040ed345",
        "outputId": "976b8875-7431-4b47-b277-3f21dd07b5d3"
      },
      "outputs": [
        {
          "data": {
            "image/png": "[encoded data removed]",
            "text/plain": [
              "<Figure size 1000x400 with 10 Axes>"
            ]
          },
          "metadata": {},
          "output_type": "display_data"
        }
      ],
      "source": [
        "# Plot some examples from the test set\n",
        "fig, axes = plt.subplots(2, 5, figsize=(10, 4))\n",
        "for i, ax in enumerate(axes.flat):\n",
        "    ax.imshow(x_test[i].reshape(28, 28), cmap='gray')\n",
        "    ax.set_title(f'Label: {np.argmax(y_test[i])}')\n",
        "    ax.axis('off')\n",
        "plt.show()"
      ]
    },
    {
      "cell_type": "code",
      "execution_count": null,
      "id": "b684ec0d",
      "metadata": {
        "id": "b684ec0d"
      },
      "outputs": [],
      "source": []
    }
  ],
  "metadata": {
    "kernelspec": {
      "display_name": "Python 3 (ipykernel)",
      "language": "python",
      "name": "python3"
    },
    "language_info": {
      "codemirror_mode": {
        "name": "ipython",
        "version": 3
      },
      "file_extension": ".py",
      "mimetype": "text/x-python",
      "name": "python",
      "nbconvert_exporter": "python",
      "pygments_lexer": "ipython3",
      "version": "3.9.13"
    },
    "colab": {
      "provenance": [],
      "include_colab_link": true
    }
  },
  "nbformat": 4,
  "nbformat_minor": 5
}